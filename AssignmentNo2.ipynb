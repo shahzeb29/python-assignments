{
 "cells": [
  {
   "cell_type": "code",
   "execution_count": 1,
   "metadata": {},
   "outputs": [
    {
     "name": "stdout",
     "output_type": "stream",
     "text": [
      "Please Enter Marks of Subject 1: 75\n",
      "Please Enter Marks of Subject 2: 69\n",
      "Please Enter Marks of Subject 3: 98\n",
      "Please Enter Marks of Subject 4: 64\n",
      "Please Enter Marks of Subject 5: 78\n",
      "Total Marks = 384 out of 500\n",
      "Percentage = 76.8%\n",
      "Your Grade is B\n"
     ]
    }
   ],
   "source": [
    "Subject1 = int(input(\"Please Enter Marks of Subject 1: \"))\n",
    "Subject2 = int(input(\"Please Enter Marks of Subject 2: \"))\n",
    "Subject3 = int(input(\"Please Enter Marks of Subject 3: \"))\n",
    "Subject4 = int(input(\"Please Enter Marks of Subject 4: \"))\n",
    "Subject5 = int(input(\"Please Enter Marks of Subject 5: \"))\n",
    "\n",
    "TotalMarks = Subject1 + Subject2 + Subject3 + Subject4 + Subject5\n",
    "AvgPer = TotalMarks/500 * 100\n",
    "print(\"Total Marks = \" + str(TotalMarks) + \" out of 500\")\n",
    "print(\"Percentage = \" + str(AvgPer) + \"%\")\n",
    "\n",
    "\n",
    "if AvgPer >= 80 and AvgPer < 100:\n",
    "    print(\"Your Grade is A+\")\n",
    "elif AvgPer >= 70 and AvgPer < 80:\n",
    "    print(\"Your Grade is B\")\n",
    "elif AvgPer >= 60 and AvgPer < 70:\n",
    "    print(\"Your Grade is C\")\n",
    "elif AvgPer >= 50 and AvgPer < 60:\n",
    "    print(\"Your Grade is D\")\n",
    "else:\n",
    "    print(\"Invalid Data\")"
   ]
  },
  {
   "cell_type": "code",
   "execution_count": 2,
   "metadata": {},
   "outputs": [
    {
     "name": "stdout",
     "output_type": "stream",
     "text": [
      "Please Enter Number: 65\n",
      "The Input Number is Odd\n"
     ]
    }
   ],
   "source": [
    "InputNumber = int(input(\"Please Enter Number: \"))\n",
    "Checking = InputNumber % 2\n",
    "\n",
    "if Checking == 0:\n",
    "    print(\"The Input Number is Even\")\n",
    "else:\n",
    "    print(\"The Input Number is Odd\")"
   ]
  },
  {
   "cell_type": "code",
   "execution_count": 3,
   "metadata": {},
   "outputs": [
    {
     "name": "stdout",
     "output_type": "stream",
     "text": [
      "Length of List is = 4\n"
     ]
    }
   ],
   "source": [
    "Names = [\"Shahzeb\", \"Mohsin\", \"Talha\", \"Zaigham\"]\n",
    "print (\"Length of List is = \" + str(len(Names)))"
   ]
  },
  {
   "cell_type": "code",
   "execution_count": 4,
   "metadata": {},
   "outputs": [
    {
     "name": "stdout",
     "output_type": "stream",
     "text": [
      "Sum of All Numericals Value of list is = 55\n"
     ]
    }
   ],
   "source": [
    "Addition = [1, 2, 3, 4, 5, 6, 7, 8, 9, 10]\n",
    "print (\"Sum of All Numericals Value of list is = \" + str(sum(Addition)))"
   ]
  },
  {
   "cell_type": "code",
   "execution_count": 5,
   "metadata": {},
   "outputs": [
    {
     "name": "stdout",
     "output_type": "stream",
     "text": [
      "The Largest Number in the list is = 89\n"
     ]
    }
   ],
   "source": [
    "LargestNumber = [55, 34, 13, 21, 89, 5, 3, 2, 1, 58]\n",
    "print (\"The Largest Number in the list is = \" + str(max(LargestNumber)))"
   ]
  },
  {
   "cell_type": "code",
   "execution_count": 11,
   "metadata": {},
   "outputs": [
    {
     "name": "stdout",
     "output_type": "stream",
     "text": [
      "1\n",
      "1\n",
      "2\n",
      "3\n"
     ]
    }
   ],
   "source": [
    "Arr1=[1,1,2,3,5,8,13,21,34,55,89]\n",
    "x=len(Arr1)\n",
    "for i in range(x):\n",
    "    if list[i]<5:\n",
    "        print(list[i])"
   ]
  },
  {
   "cell_type": "code",
   "execution_count": null,
   "metadata": {},
   "outputs": [],
   "source": []
  }
 ],
 "metadata": {
  "kernelspec": {
   "display_name": "Python 3",
   "language": "python",
   "name": "python3"
  },
  "language_info": {
   "codemirror_mode": {
    "name": "ipython",
    "version": 3
   },
   "file_extension": ".py",
   "mimetype": "text/x-python",
   "name": "python",
   "nbconvert_exporter": "python",
   "pygments_lexer": "ipython3",
   "version": "3.7.4"
  }
 },
 "nbformat": 4,
 "nbformat_minor": 2
}
