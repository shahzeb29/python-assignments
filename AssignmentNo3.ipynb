{
 "cells": [
  {
   "cell_type": "code",
   "execution_count": 3,
   "metadata": {},
   "outputs": [
    {
     "name": "stdout",
     "output_type": "stream",
     "text": [
      "Calculator Legend\n",
      "For Addition = +\n",
      "For Substraction = -\n",
      "For Division = /\n",
      "For Multiplicatin = *\n",
      "For Power = **\n",
      " \n",
      "Enter First Number: 123\n",
      "Enter Operator: /\n",
      "Enter Second Value: 123\n",
      "Answer: 1.0\n"
     ]
    }
   ],
   "source": [
    "#Assignment No. 03\n",
    "#Task No. 1\n",
    "#Make a calculator using python with addition, substraction, multiplication, division and power.\n",
    "\n",
    "print(\"Calculator Legend\")\n",
    "print(\"For Addition = +\")\n",
    "print(\"For Substraction = -\")\n",
    "print(\"For Division = /\")\n",
    "print(\"For Multiplicatin = *\")\n",
    "print(\"For Power = **\")\n",
    "print(\" \")\n",
    "\n",
    "val1 = int(input(\"Enter First Number: \"))\n",
    "operator = input(\"Enter Operator: \")\n",
    "val2 = int(input(\"Enter Second Value: \"))\n",
    "\n",
    "if operator == '+':\n",
    "    val = val1 + val2\n",
    "    print(\"Answer:\", val)\n",
    "elif operator == '-':\n",
    "    val = val1 - val2\n",
    "    print(\"Answer:\", val)\n",
    "elif operator == '/':\n",
    "    val = val1 / val2\n",
    "    print(\"Answer:\", val)\n",
    "elif operator == '*':\n",
    "    val = val1 * val2\n",
    "    print(\"Answer:\", val)\n",
    "elif operator == '**':\n",
    "    val = val1 ** val2\n",
    "    print(\"Answer:\", val)\n",
    "else:\n",
    "    print(\"Enter Correct Operator\")"
   ]
  },
  {
   "cell_type": "code",
   "execution_count": 6,
   "metadata": {},
   "outputs": [
    {
     "name": "stdout",
     "output_type": "stream",
     "text": [
      "54\n",
      "69\n",
      "123\n",
      "15\n"
     ]
    }
   ],
   "source": [
    "#Task No. 2\n",
    "#Write a program to check if there is any numeric value in list using for loop.\n",
    "\n",
    "list1 = [54, 69, 123, \"asd\", 15, \"edf\", True]\n",
    "for check_num in list1:\n",
    "    if type(check_num) == int:\n",
    "        print(check_num)"
   ]
  },
  {
   "cell_type": "code",
   "execution_count": 7,
   "metadata": {},
   "outputs": [
    {
     "name": "stdout",
     "output_type": "stream",
     "text": [
      "Enter Key to be Added Father Name\n",
      "Enter Value to be Added Muhammad Sharif\n",
      "{'First Name': 'Shahzeb', 'Last Name': 'Sharif', 'Class': 'Matric', 'Father Name': 'Muhammad Sharif'}\n"
     ]
    }
   ],
   "source": [
    "#Task No. 3\n",
    "#Write a Python script to add a key to a dictionary.\n",
    "\n",
    "student = {\"First Name\":\"Shahzeb\", \"Last Name\":\"Sharif\", \"Class\":\"Matric\"}\n",
    "define_key = input(\"Enter Key to be Added \")\n",
    "define_value = input(\"Enter Value to be Added \")\n",
    "student[define_key] = define_value\n",
    "print(student)"
   ]
  },
  {
   "cell_type": "code",
   "execution_count": 10,
   "metadata": {},
   "outputs": [
    {
     "name": "stdout",
     "output_type": "stream",
     "text": [
      "Sum of All Integer Values is:  17430\n"
     ]
    }
   ],
   "source": [
    "#Task No. 4\n",
    "#Write a Python program to sum all the numeric items in a dictionary.\n",
    "Dic1 = {\"Money1\": 2000, \"Money2\": 6890, \"Money3\": 8540}\n",
    "sum_Dic1 = sum(Dic1.values())\n",
    "print(\"Sum of All Integer Values is: \", sum_Dic1)"
   ]
  },
  {
   "cell_type": "code",
   "execution_count": 12,
   "metadata": {},
   "outputs": [
    {
     "name": "stdout",
     "output_type": "stream",
     "text": [
      "Sorted : [6, 7, 11, 15, 15, 20, 20, 20, 30, 30, 40, 40, 50, 50]\n",
      "Duplicate Values in the list are:  [15, 20, 30, 40, 50]\n"
     ]
    }
   ],
   "source": [
    "#Task No. 5\n",
    "#Write a program to identify duplicate values from list\n",
    "List1 = [20,30,20,30,40,50,15,11,20,40,50,15,6,7]\n",
    "List1.sort() #Sorts the List in Ascending Order\n",
    "print(\"Sorted :\", List1)\n",
    "     \n",
    "List2 = sorted(set(List1))\n",
    "dup_list =[]\n",
    "     \n",
    "for i in range(len(List2)):\n",
    "        if (List1.count(List2[i]) > 1 ):\n",
    "            dup_list.append(List2[i])\n",
    "            \n",
    "print(\"Duplicate Values in the list are: \", dup_list) "
   ]
  },
  {
   "cell_type": "code",
   "execution_count": 16,
   "metadata": {},
   "outputs": [
    {
     "name": "stdout",
     "output_type": "stream",
     "text": [
      "Enter Key to Check: First Name\n",
      "Yes, the key  ' First Name '  already exist in the Dictionary\n"
     ]
    }
   ],
   "source": [
    "#Task No. 6\n",
    "#Write a Python script to check if a given key already exists in a dictionary.\n",
    "student = {\"First Name\":\"Shahzeb\", \"Last Name\":\"Sharif\", \"Class\":\"Matric\"}\n",
    "key_to_be_checked = input(\"Enter Key to Check: \")\n",
    "if key_to_be_checked in student:\n",
    "    print(\"Yes, the key \", \"'\", key_to_be_checked,\"'\", \" already exist in the Dictionary\")\n",
    "else:\n",
    "    print(\"No, the key \", \"'\", key_to_be_checked,\"'\", \" does not exist in the Dictionary\")"
   ]
  },
  {
   "cell_type": "code",
   "execution_count": null,
   "metadata": {},
   "outputs": [],
   "source": []
  }
 ],
 "metadata": {
  "kernelspec": {
   "display_name": "Python 3",
   "language": "python",
   "name": "python3"
  },
  "language_info": {
   "codemirror_mode": {
    "name": "ipython",
    "version": 3
   },
   "file_extension": ".py",
   "mimetype": "text/x-python",
   "name": "python",
   "nbconvert_exporter": "python",
   "pygments_lexer": "ipython3",
   "version": "3.7.4"
  }
 },
 "nbformat": 4,
 "nbformat_minor": 2
}
